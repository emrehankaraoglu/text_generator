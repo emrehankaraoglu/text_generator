{
 "cells": [
  {
   "cell_type": "code",
   "execution_count": 59,
   "id": "8c2abb2c",
   "metadata": {},
   "outputs": [],
   "source": [
    "import pandas as pd \n",
    "import numpy as np \n",
    "import matplotlib.pyplot as plt\n",
    "import tensorflow as tf"
   ]
  },
  {
   "cell_type": "code",
   "execution_count": 60,
   "id": "b962234f",
   "metadata": {},
   "outputs": [],
   "source": [
    "dosya = \"istanbul-hatırası.txt\""
   ]
  },
  {
   "cell_type": "code",
   "execution_count": 61,
   "id": "f9cd672a",
   "metadata": {},
   "outputs": [],
   "source": [
    "text = open(dosya,'r',encoding=\"utf8\").read()"
   ]
  },
  {
   "cell_type": "code",
   "execution_count": 62,
   "id": "4dbd116b",
   "metadata": {},
   "outputs": [
    {
     "name": "stdout",
     "output_type": "stream",
     "text": [
      "İSTANBUL HATIRASI\n",
      "\n",
      "\f",
      "Yahya Kemal\n",
      "\n",
      "Byzantion Kral Byzas'ın Efsanevi Kentim\n",
      "Tanrı, Kral'a bakıyordu. Kutsanma töreniydi: Şükran günü, bedel anı, saygı zamanı.\n",
      "Tanrı kutsal bir armağan olarak sunmuştu bir kartal başı gibi denize uzanan bu güzel\n",
      "ülkeyi onlara. Rüzgâr, büyülü bir güçle doldurmuştu gemlerinin yelkenlerini; toprak,\n",
      "doğurgan bir kadın gibi ekilen tohumları nefis yemişlere dönüştürmüştü; deniz, cömert\n",
      "bir bahçe olup balıkların en lezzetlisini vermişti onlara. Tanrı, belayı uzak tutmuştu\n",
      "h\n"
     ]
    }
   ],
   "source": [
    "print(text[:500])"
   ]
  },
  {
   "cell_type": "code",
   "execution_count": 63,
   "id": "f768233a",
   "metadata": {},
   "outputs": [],
   "source": [
    "harfler = sorted(set(text))"
   ]
  },
  {
   "cell_type": "code",
   "execution_count": 64,
   "id": "3547ed42",
   "metadata": {},
   "outputs": [
    {
     "data": {
      "text/plain": [
       "['\\n',\n",
       " '\\x0c',\n",
       " ' ',\n",
       " '!',\n",
       " '\"',\n",
       " \"'\",\n",
       " '(',\n",
       " ')',\n",
       " '*',\n",
       " ',',\n",
       " '-',\n",
       " '.',\n",
       " '/',\n",
       " '0',\n",
       " '1',\n",
       " '2',\n",
       " '3',\n",
       " '4',\n",
       " '5',\n",
       " '6',\n",
       " '7',\n",
       " '8',\n",
       " '9',\n",
       " ':',\n",
       " ';',\n",
       " '<',\n",
       " '>',\n",
       " '?',\n",
       " 'A',\n",
       " 'B',\n",
       " 'C',\n",
       " 'D',\n",
       " 'E',\n",
       " 'F',\n",
       " 'G',\n",
       " 'H',\n",
       " 'I',\n",
       " 'J',\n",
       " 'K',\n",
       " 'L',\n",
       " 'M',\n",
       " 'N',\n",
       " 'O',\n",
       " 'P',\n",
       " 'Q',\n",
       " 'R',\n",
       " 'S',\n",
       " 'T',\n",
       " 'U',\n",
       " 'V',\n",
       " 'W',\n",
       " 'X',\n",
       " 'Y',\n",
       " 'Z',\n",
       " '\\\\',\n",
       " '^',\n",
       " '_',\n",
       " 'a',\n",
       " 'b',\n",
       " 'c',\n",
       " 'd',\n",
       " 'e',\n",
       " 'f',\n",
       " 'g',\n",
       " 'h',\n",
       " 'i',\n",
       " 'j',\n",
       " 'k',\n",
       " 'l',\n",
       " 'm',\n",
       " 'n',\n",
       " 'o',\n",
       " 'p',\n",
       " 'q',\n",
       " 'r',\n",
       " 's',\n",
       " 't',\n",
       " 'u',\n",
       " 'v',\n",
       " 'w',\n",
       " 'x',\n",
       " 'y',\n",
       " 'z',\n",
       " '|',\n",
       " '~',\n",
       " '«',\n",
       " '°',\n",
       " '»',\n",
       " 'Â',\n",
       " 'Ç',\n",
       " 'Î',\n",
       " 'Ö',\n",
       " 'Ü',\n",
       " 'â',\n",
       " 'ç',\n",
       " 'î',\n",
       " 'ö',\n",
       " 'û',\n",
       " 'ü',\n",
       " 'ğ',\n",
       " 'İ',\n",
       " 'ı',\n",
       " 'Ş',\n",
       " 'ş',\n",
       " '—',\n",
       " '’',\n",
       " '•']"
      ]
     },
     "execution_count": 64,
     "metadata": {},
     "output_type": "execute_result"
    }
   ],
   "source": [
    "harfler"
   ]
  },
  {
   "cell_type": "code",
   "execution_count": 65,
   "id": "d168535c",
   "metadata": {},
   "outputs": [
    {
     "data": {
      "text/plain": [
       "107"
      ]
     },
     "execution_count": 65,
     "metadata": {},
     "output_type": "execute_result"
    }
   ],
   "source": [
    "len(harfler)"
   ]
  },
  {
   "cell_type": "code",
   "execution_count": 66,
   "id": "4b605e4c",
   "metadata": {},
   "outputs": [],
   "source": [
    "char_to_ind = {char:ind for ind,char in enumerate(harfler)}"
   ]
  },
  {
   "cell_type": "code",
   "execution_count": 67,
   "id": "906ee0c4",
   "metadata": {},
   "outputs": [
    {
     "data": {
      "text/plain": [
       "35"
      ]
     },
     "execution_count": 67,
     "metadata": {},
     "output_type": "execute_result"
    }
   ],
   "source": [
    "char_to_ind[\"H\"]"
   ]
  },
  {
   "cell_type": "code",
   "execution_count": 68,
   "id": "e77d603f",
   "metadata": {},
   "outputs": [],
   "source": [
    "ind_to_char = np.array(harfler)"
   ]
  },
  {
   "cell_type": "code",
   "execution_count": 69,
   "id": "781fe1f0",
   "metadata": {},
   "outputs": [
    {
     "data": {
      "text/plain": [
       "'H'"
      ]
     },
     "execution_count": 69,
     "metadata": {},
     "output_type": "execute_result"
    }
   ],
   "source": [
    "ind_to_char[35]"
   ]
  },
  {
   "cell_type": "code",
   "execution_count": 70,
   "id": "fcc5a4ae",
   "metadata": {},
   "outputs": [],
   "source": [
    "encoded_text = np.array([char_to_ind[c] for c in text])"
   ]
  },
  {
   "cell_type": "code",
   "execution_count": 71,
   "id": "7e074f86",
   "metadata": {},
   "outputs": [
    {
     "data": {
      "text/plain": [
       "array([100,  46,  47,  28,  41,  29,  48,  39,   2,  35,  28,  47,  36,\n",
       "        45,  28,  46,  36,   0,   0,   1,  52,  57,  64,  81,  57,   2,\n",
       "        38,  61,  69,  57,  68,   0,   0,  29,  81,  82,  57,  70,  76,\n",
       "        65,  71,  70,   2,  38,  74,  57,  68,   2,  29,  81])"
      ]
     },
     "execution_count": 71,
     "metadata": {},
     "output_type": "execute_result"
    }
   ],
   "source": [
    "encoded_text[:50]"
   ]
  },
  {
   "cell_type": "code",
   "execution_count": 72,
   "id": "61db80b1",
   "metadata": {},
   "outputs": [
    {
     "name": "stdout",
     "output_type": "stream",
     "text": [
      "İSTANBUL HATIRASI\n",
      "\n",
      "\f",
      "Yahya Kemal\n",
      "\n",
      "Byzantion Kral By\n"
     ]
    }
   ],
   "source": [
    "print(text[:50])"
   ]
  },
  {
   "cell_type": "code",
   "execution_count": 73,
   "id": "94efebe7",
   "metadata": {},
   "outputs": [
    {
     "name": "stdout",
     "output_type": "stream",
     "text": [
      "İSTANBUL HATIRASI\n",
      "\n",
      "\f",
      "Yahya Kemal\n",
      "\n",
      "Byzantion Kral Byzas'ın Efsanevi Kentim\n",
      "Tanrı, Kral'a bakıyordu. Kutsanma töreniydi: Şükran günü, bedel anı, saygı zamanı.\n",
      "Tanrı kutsal bir armağan olarak sunmuştu bir kartal başı gibi denize uzanan bu güzel\n",
      "ülkeyi onlara. Rüzgâr, büyülü bir güçle doldurmuştu gemleri\n"
     ]
    }
   ],
   "source": [
    "print(text[:300])"
   ]
  },
  {
   "cell_type": "code",
   "execution_count": 74,
   "id": "0e77ab57",
   "metadata": {},
   "outputs": [
    {
     "data": {
      "text/plain": [
       "183"
      ]
     },
     "execution_count": 74,
     "metadata": {},
     "output_type": "execute_result"
    }
   ],
   "source": [
    "len(\"\"\" Tanrı, Kral'a bakıyordu. Kutsanma töreniydi: Şükran günü, bedel anı, saygı zamanı.\n",
    "Tanrı kutsal bir armağan olarak sunmuştu bir kartal başı gibi denize uzanan bu güzel\n",
    "ülkeyi onlara.\"\"\")"
   ]
  },
  {
   "cell_type": "code",
   "execution_count": 75,
   "id": "fcd7745e",
   "metadata": {},
   "outputs": [],
   "source": [
    "sequence_len = 180 # tahmini olarak kaç harf mantıklı bir cümle meydana getiriyor. "
   ]
  },
  {
   "cell_type": "code",
   "execution_count": 76,
   "id": "b631b402",
   "metadata": {},
   "outputs": [],
   "source": [
    "toplam_sequence = len(text) // (sequence_len+1)"
   ]
  },
  {
   "cell_type": "code",
   "execution_count": 77,
   "id": "c60a98bc",
   "metadata": {},
   "outputs": [
    {
     "data": {
      "text/plain": [
       "5486"
      ]
     },
     "execution_count": 77,
     "metadata": {},
     "output_type": "execute_result"
    }
   ],
   "source": [
    "toplam_sequence"
   ]
  },
  {
   "cell_type": "code",
   "execution_count": 78,
   "id": "925cfde2",
   "metadata": {},
   "outputs": [],
   "source": [
    "char_dataset = tf.data.Dataset.from_tensor_slices(encoded_text)"
   ]
  },
  {
   "cell_type": "code",
   "execution_count": 79,
   "id": "157f5382",
   "metadata": {},
   "outputs": [
    {
     "data": {
      "text/plain": [
       "tensorflow.python.data.ops.dataset_ops.TensorSliceDataset"
      ]
     },
     "execution_count": 79,
     "metadata": {},
     "output_type": "execute_result"
    }
   ],
   "source": [
    "type(char_dataset)"
   ]
  },
  {
   "cell_type": "code",
   "execution_count": 80,
   "id": "7b77c5f6",
   "metadata": {},
   "outputs": [],
   "source": [
    "sequences = char_dataset.batch(sequence_len+1,drop_remainder=True)"
   ]
  },
  {
   "cell_type": "code",
   "execution_count": 81,
   "id": "5191cd66",
   "metadata": {},
   "outputs": [
    {
     "data": {
      "text/plain": [
       "<BatchDataset shapes: (181,), types: tf.int32>"
      ]
     },
     "execution_count": 81,
     "metadata": {},
     "output_type": "execute_result"
    }
   ],
   "source": [
    "sequences"
   ]
  },
  {
   "cell_type": "code",
   "execution_count": 82,
   "id": "cdb40c7c",
   "metadata": {},
   "outputs": [],
   "source": [
    "def create_seq_targets(seq):\n",
    "    input_txt = seq[:-1] # istanbu\n",
    "    target_txt= seq[1:]  # stanbul\n",
    "    return input_txt, target_txt"
   ]
  },
  {
   "cell_type": "code",
   "execution_count": 83,
   "id": "2eeadfc1",
   "metadata": {},
   "outputs": [],
   "source": [
    "dataset = sequences.map(create_seq_targets)"
   ]
  },
  {
   "cell_type": "code",
   "execution_count": 84,
   "id": "889a07e7",
   "metadata": {},
   "outputs": [
    {
     "data": {
      "text/plain": [
       "<TakeDataset shapes: ((180,), (180,)), types: (tf.int32, tf.int32)>"
      ]
     },
     "execution_count": 84,
     "metadata": {},
     "output_type": "execute_result"
    }
   ],
   "source": [
    "dataset.take(1)"
   ]
  },
  {
   "cell_type": "code",
   "execution_count": 85,
   "id": "586c6d86",
   "metadata": {},
   "outputs": [
    {
     "name": "stdout",
     "output_type": "stream",
     "text": [
      "[100  46  47  28  41  29  48  39   2  35  28  47  36  45  28  46  36   0\n",
      "   0   1  52  57  64  81  57   2  38  61  69  57  68   0   0  29  81  82\n",
      "  57  70  76  65  71  70   2  38  74  57  68   2  29  81  82  57  75   5\n",
      " 101  70   2  32  62  75  57  70  61  78  65   2  38  61  70  76  65  69\n",
      "   0  47  57  70  74 101   9   2  38  74  57  68   5  57   2  58  57  67\n",
      " 101  81  71  74  60  77  11   2  38  77  76  75  57  70  69  57   2  76\n",
      "  96  74  61  70  65  81  60  65  23   2 102  98  67  74  57  70   2  63\n",
      "  98  70  98   9   2  58  61  60  61  68   2  57  70 101   9   2  75  57\n",
      "  81  63 101   2  82  57  69  57  70 101  11   0  47  57  70  74 101   2\n",
      "  67  77  76  75  57  68   2  58  65  74   2  57  74  69  57  99  57  70]\n",
      "İSTANBUL HATIRASI\n",
      "\n",
      "\f",
      "Yahya Kemal\n",
      "\n",
      "Byzantion Kral Byzas'ın Efsanevi Kentim\n",
      "Tanrı, Kral'a bakıyordu. Kutsanma töreniydi: Şükran günü, bedel anı, saygı zamanı.\n",
      "Tanrı kutsal bir armağan\n",
      "\n",
      "\n",
      "[ 46  47  28  41  29  48  39   2  35  28  47  36  45  28  46  36   0   0\n",
      "   1  52  57  64  81  57   2  38  61  69  57  68   0   0  29  81  82  57\n",
      "  70  76  65  71  70   2  38  74  57  68   2  29  81  82  57  75   5 101\n",
      "  70   2  32  62  75  57  70  61  78  65   2  38  61  70  76  65  69   0\n",
      "  47  57  70  74 101   9   2  38  74  57  68   5  57   2  58  57  67 101\n",
      "  81  71  74  60  77  11   2  38  77  76  75  57  70  69  57   2  76  96\n",
      "  74  61  70  65  81  60  65  23   2 102  98  67  74  57  70   2  63  98\n",
      "  70  98   9   2  58  61  60  61  68   2  57  70 101   9   2  75  57  81\n",
      "  63 101   2  82  57  69  57  70 101  11   0  47  57  70  74 101   2  67\n",
      "  77  76  75  57  68   2  58  65  74   2  57  74  69  57  99  57  70   2]\n",
      "STANBUL HATIRASI\n",
      "\n",
      "\f",
      "Yahya Kemal\n",
      "\n",
      "Byzantion Kral Byzas'ın Efsanevi Kentim\n",
      "Tanrı, Kral'a bakıyordu. Kutsanma töreniydi: Şükran günü, bedel anı, saygı zamanı.\n",
      "Tanrı kutsal bir armağan \n"
     ]
    }
   ],
   "source": [
    "for input_txt,target_txt in dataset.take(1):\n",
    "    print(input_txt.numpy())\n",
    "    print(\"\".join(ind_to_char[input_txt.numpy()]))\n",
    "    print(\"\\n\")\n",
    "    print(target_txt.numpy())\n",
    "    print(\"\".join(ind_to_char[target_txt.numpy()]))\n",
    "    "
   ]
  },
  {
   "cell_type": "code",
   "execution_count": 86,
   "id": "56b8e04f",
   "metadata": {},
   "outputs": [],
   "source": [
    "batch_size = 128"
   ]
  },
  {
   "cell_type": "code",
   "execution_count": 87,
   "id": "65d355db",
   "metadata": {},
   "outputs": [],
   "source": [
    "buffer_size = 10000\n",
    "\n",
    "dataset = dataset.shuffle(buffer_size).batch(batch_size,drop_remainder=True)"
   ]
  },
  {
   "cell_type": "code",
   "execution_count": 88,
   "id": "e842bfc5",
   "metadata": {},
   "outputs": [
    {
     "data": {
      "text/plain": [
       "<BatchDataset shapes: ((128, 180), (128, 180)), types: (tf.int32, tf.int32)>"
      ]
     },
     "execution_count": 88,
     "metadata": {},
     "output_type": "execute_result"
    }
   ],
   "source": [
    "dataset"
   ]
  },
  {
   "cell_type": "code",
   "execution_count": 89,
   "id": "1fd62b2c",
   "metadata": {},
   "outputs": [],
   "source": [
    "vocab_size = len(harfler)"
   ]
  },
  {
   "cell_type": "code",
   "execution_count": 90,
   "id": "89a47818",
   "metadata": {},
   "outputs": [
    {
     "data": {
      "text/plain": [
       "107"
      ]
     },
     "execution_count": 90,
     "metadata": {},
     "output_type": "execute_result"
    }
   ],
   "source": [
    "vocab_size "
   ]
  },
  {
   "cell_type": "code",
   "execution_count": 91,
   "id": "4d307ae6",
   "metadata": {},
   "outputs": [],
   "source": [
    "embed_dim = 64"
   ]
  },
  {
   "cell_type": "code",
   "execution_count": 92,
   "id": "9fc95953",
   "metadata": {},
   "outputs": [],
   "source": [
    "rnn_neurons = 1538"
   ]
  },
  {
   "cell_type": "code",
   "execution_count": 93,
   "id": "172d423c",
   "metadata": {},
   "outputs": [],
   "source": [
    "from tensorflow.keras.losses import sparse_categorical_crossentropy"
   ]
  },
  {
   "cell_type": "code",
   "execution_count": 94,
   "id": "c23f0237",
   "metadata": {},
   "outputs": [],
   "source": [
    "def sparse_cat_loss(y_true,y_pred):\n",
    "    return sparse_categorical_crossentropy(y_true,y_pred,from_logits=True)"
   ]
  },
  {
   "cell_type": "code",
   "execution_count": 95,
   "id": "8b13f6c9",
   "metadata": {},
   "outputs": [],
   "source": [
    "from tensorflow.keras.models import Sequential\n",
    "from tensorflow.keras.layers import Embedding, GRU, Dense"
   ]
  },
  {
   "cell_type": "code",
   "execution_count": 96,
   "id": "837561e7",
   "metadata": {},
   "outputs": [],
   "source": [
    "def create_model(vocab_size,embed_dim,rnn_neurons,batch_size):\n",
    "    model = Sequential()\n",
    "    model.add(Embedding(vocab_size,embed_dim,batch_input_shape=[batch_size,None]))\n",
    "    model.add(GRU(rnn_neurons,return_sequences = True,\n",
    "                 stateful = True, recurrent_initializer = \"glorot_uniform\"))\n",
    "    \n",
    "    model.add(Dense(vocab_size))\n",
    "    \n",
    "    \n",
    "    model.compile(\"adam\", loss = sparse_cat_loss)\n",
    "    \n",
    "    return model"
   ]
  },
  {
   "cell_type": "code",
   "execution_count": 97,
   "id": "7fcdb271",
   "metadata": {},
   "outputs": [],
   "source": [
    "model = create_model(vocab_size=vocab_size,\n",
    "                    embed_dim=embed_dim,\n",
    "                    rnn_neurons=rnn_neurons,\n",
    "                    batch_size=batch_size)"
   ]
  },
  {
   "cell_type": "code",
   "execution_count": 98,
   "id": "d4598ad4",
   "metadata": {},
   "outputs": [
    {
     "name": "stdout",
     "output_type": "stream",
     "text": [
      "Model: \"sequential_3\"\n",
      "_________________________________________________________________\n",
      "Layer (type)                 Output Shape              Param #   \n",
      "=================================================================\n",
      "embedding_3 (Embedding)      (128, None, 64)           6848      \n",
      "_________________________________________________________________\n",
      "gru_3 (GRU)                  (128, None, 1538)         7400856   \n",
      "_________________________________________________________________\n",
      "dense_3 (Dense)              (128, None, 107)          164673    \n",
      "=================================================================\n",
      "Total params: 7,572,377\n",
      "Trainable params: 7,572,377\n",
      "Non-trainable params: 0\n",
      "_________________________________________________________________\n"
     ]
    }
   ],
   "source": [
    "model.summary()"
   ]
  },
  {
   "cell_type": "code",
   "execution_count": 99,
   "id": "f66ea983",
   "metadata": {},
   "outputs": [],
   "source": [
    "for input_example_batch, target_example_batch in dataset.take(1):\n",
    "    example_batch_prediction = model(input_example_batch)"
   ]
  },
  {
   "cell_type": "code",
   "execution_count": 100,
   "id": "f8962a9a",
   "metadata": {},
   "outputs": [],
   "source": [
    "sampled_indices = tf.random.categorical(example_batch_prediction[0],num_samples=1)"
   ]
  },
  {
   "cell_type": "code",
   "execution_count": 101,
   "id": "13b08f4f",
   "metadata": {},
   "outputs": [],
   "source": [
    "sampled_indices = tf.squeeze(sampled_indices,axis=-1).numpy()"
   ]
  },
  {
   "cell_type": "code",
   "execution_count": 102,
   "id": "63caae27",
   "metadata": {},
   "outputs": [
    {
     "data": {
      "text/plain": [
       "array(['0', '-', 'V', '?', 'b', '(', 'G', '/', 'H', 'N', '2', ')', 'W',\n",
       "       'h', 'v', 'f', '»', ';', '_', '•', '_', 'A', '>', 'L', 'L', 'J',\n",
       "       'D', '^', '!', '«', '<', '»', '0', 'I', '—', 'P', '2', '\\n', '8',\n",
       "       '\\n', 'p', ')', 'd', '7', 'Â', '\\x0c', '<', 'İ', 'T', 'o', ')',\n",
       "       'p', '.', 'k', '(', 'Â', 'ş', 'Ş', '°', '9', '7', 'X', ';', 'K',\n",
       "       'E', ' ', 'g', '>', 'B', '*', '!', 'd', 'B', '~', 'î', 'c', 's',\n",
       "       'r', 'Ö', 'U', 'p', 'g', 'Y', '\"', '8', '6', 'P', 'Y', 'ğ', 'k',\n",
       "       '>', '’', '1', '2', ' ', '(', 't', 'ı', 'g', '*', 'Ç', 'N', 'L',\n",
       "       '2', 'l', 'r', '\\n', '7', 'M', '~', ',', 'm', ' ', 'ş', 'O', 'u',\n",
       "       '!', '\\x0c', 'Z', '«', '•', '<', 'r', 'J', '7', '-', 'G', '~', 'I',\n",
       "       'J', 'm', '*', 'V', '\\x0c', 'Â', 'İ', 'ş', 'e', '^', '*', 'd', 'G',\n",
       "       '—', 'l', 'S', '2', 'h', 'û', '»', 'p', 'D', 'f', 'Î', '0', 'X',\n",
       "       'z', '6', 'W', '^', 'U', '9', '>', ')', 'ö', 'H', 'p', 'Ç', 'B',\n",
       "       '—', 'd', 'l', '’', 'd', 'l', 'C', 'H', 'v', 'P', '?', 'M'],\n",
       "      dtype='<U1')"
      ]
     },
     "execution_count": 102,
     "metadata": {},
     "output_type": "execute_result"
    }
   ],
   "source": [
    "ind_to_char[sampled_indices]"
   ]
  },
  {
   "cell_type": "code",
   "execution_count": 103,
   "id": "15ad3b19",
   "metadata": {},
   "outputs": [],
   "source": [
    "epocs = 50"
   ]
  },
  {
   "cell_type": "code",
   "execution_count": 104,
   "id": "ad747807",
   "metadata": {},
   "outputs": [
    {
     "name": "stdout",
     "output_type": "stream",
     "text": [
      "Epoch 1/50\n",
      "42/42 [==============================] - 36s 802ms/step - loss: 3.7380\n",
      "Epoch 2/50\n",
      "42/42 [==============================] - 35s 805ms/step - loss: 2.8575\n",
      "Epoch 3/50\n",
      "42/42 [==============================] - 35s 804ms/step - loss: 2.4452\n",
      "Epoch 4/50\n",
      "42/42 [==============================] - 35s 805ms/step - loss: 2.2989\n",
      "Epoch 5/50\n",
      "42/42 [==============================] - 35s 805ms/step - loss: 2.1920\n",
      "Epoch 6/50\n",
      "42/42 [==============================] - 35s 813ms/step - loss: 2.0993\n",
      "Epoch 7/50\n",
      "42/42 [==============================] - 35s 807ms/step - loss: 2.0059\n",
      "Epoch 8/50\n",
      "42/42 [==============================] - 35s 808ms/step - loss: 1.9132\n",
      "Epoch 9/50\n",
      "42/42 [==============================] - 35s 808ms/step - loss: 1.8243\n",
      "Epoch 10/50\n",
      "42/42 [==============================] - 35s 811ms/step - loss: 1.7413\n",
      "Epoch 11/50\n",
      "42/42 [==============================] - 35s 807ms/step - loss: 1.6663\n",
      "Epoch 12/50\n",
      "42/42 [==============================] - 35s 809ms/step - loss: 1.5993\n",
      "Epoch 13/50\n",
      "42/42 [==============================] - 35s 810ms/step - loss: 1.5380\n",
      "Epoch 14/50\n",
      "42/42 [==============================] - 35s 809ms/step - loss: 1.4823\n",
      "Epoch 15/50\n",
      "42/42 [==============================] - 35s 812ms/step - loss: 1.4324\n",
      "Epoch 16/50\n",
      "42/42 [==============================] - 35s 811ms/step - loss: 1.3869\n",
      "Epoch 17/50\n",
      "42/42 [==============================] - 35s 811ms/step - loss: 1.3422\n",
      "Epoch 18/50\n",
      "42/42 [==============================] - 35s 811ms/step - loss: 1.3024\n",
      "Epoch 19/50\n",
      "42/42 [==============================] - 35s 809ms/step - loss: 1.2602\n",
      "Epoch 20/50\n",
      "42/42 [==============================] - 35s 811ms/step - loss: 1.2208\n",
      "Epoch 21/50\n",
      "42/42 [==============================] - 35s 811ms/step - loss: 1.1791\n",
      "Epoch 22/50\n",
      "42/42 [==============================] - 35s 811ms/step - loss: 1.1406\n",
      "Epoch 23/50\n",
      "42/42 [==============================] - 35s 809ms/step - loss: 1.0988\n",
      "Epoch 24/50\n",
      "42/42 [==============================] - 35s 810ms/step - loss: 1.0566\n",
      "Epoch 25/50\n",
      "42/42 [==============================] - 35s 811ms/step - loss: 1.0131\n",
      "Epoch 26/50\n",
      "42/42 [==============================] - 35s 809ms/step - loss: 0.9673\n",
      "Epoch 27/50\n",
      "42/42 [==============================] - 35s 812ms/step - loss: 0.9252\n",
      "Epoch 28/50\n",
      "42/42 [==============================] - 35s 812ms/step - loss: 0.8795\n",
      "Epoch 29/50\n",
      "42/42 [==============================] - 35s 811ms/step - loss: 0.8307\n",
      "Epoch 30/50\n",
      "42/42 [==============================] - 35s 812ms/step - loss: 0.7837\n",
      "Epoch 31/50\n",
      "42/42 [==============================] - 35s 812ms/step - loss: 0.7365\n",
      "Epoch 32/50\n",
      "42/42 [==============================] - 35s 812ms/step - loss: 0.6904\n",
      "Epoch 33/50\n",
      "42/42 [==============================] - 35s 810ms/step - loss: 0.6451\n",
      "Epoch 34/50\n",
      "42/42 [==============================] - 35s 812ms/step - loss: 0.6005\n",
      "Epoch 35/50\n",
      "42/42 [==============================] - 35s 812ms/step - loss: 0.5603\n",
      "Epoch 36/50\n",
      "42/42 [==============================] - 35s 812ms/step - loss: 0.5211\n",
      "Epoch 37/50\n",
      "42/42 [==============================] - 35s 813ms/step - loss: 0.4865\n",
      "Epoch 38/50\n",
      "42/42 [==============================] - 35s 811ms/step - loss: 0.4552\n",
      "Epoch 39/50\n",
      "42/42 [==============================] - 35s 812ms/step - loss: 0.4253\n",
      "Epoch 40/50\n",
      "42/42 [==============================] - 35s 810ms/step - loss: 0.3983\n",
      "Epoch 41/50\n",
      "42/42 [==============================] - 35s 811ms/step - loss: 0.3748\n",
      "Epoch 42/50\n",
      "42/42 [==============================] - 35s 812ms/step - loss: 0.3571\n",
      "Epoch 43/50\n",
      "42/42 [==============================] - 35s 812ms/step - loss: 0.3387\n",
      "Epoch 44/50\n",
      "42/42 [==============================] - 35s 811ms/step - loss: 0.3215\n",
      "Epoch 45/50\n",
      "42/42 [==============================] - 35s 813ms/step - loss: 0.3074\n",
      "Epoch 46/50\n",
      "42/42 [==============================] - 35s 814ms/step - loss: 0.2962\n",
      "Epoch 47/50\n",
      "42/42 [==============================] - 35s 813ms/step - loss: 0.2860\n",
      "Epoch 48/50\n",
      "42/42 [==============================] - 35s 814ms/step - loss: 0.2781\n",
      "Epoch 49/50\n",
      "42/42 [==============================] - 36s 813ms/step - loss: 0.2689\n",
      "Epoch 50/50\n",
      "42/42 [==============================] - 35s 814ms/step - loss: 0.2630\n"
     ]
    }
   ],
   "source": [
    "history = model.fit(dataset,epochs=epocs)"
   ]
  },
  {
   "cell_type": "code",
   "execution_count": 105,
   "id": "c195f0cc",
   "metadata": {},
   "outputs": [],
   "source": [
    "model.save(\"ahmet_umit_generator.h5\")"
   ]
  },
  {
   "cell_type": "code",
   "execution_count": 106,
   "id": "b0c52359",
   "metadata": {},
   "outputs": [],
   "source": [
    "model.save_weights(\"ahmet_umit_generator_weights.h5\")"
   ]
  },
  {
   "cell_type": "code",
   "execution_count": 107,
   "id": "2666a848",
   "metadata": {},
   "outputs": [],
   "source": [
    "from tensorflow.keras.models import load_model"
   ]
  },
  {
   "cell_type": "code",
   "execution_count": 108,
   "id": "30922473",
   "metadata": {},
   "outputs": [],
   "source": [
    "model = create_model(vocab_size,embed_dim,rnn_neurons,batch_size=1)\n",
    "\n",
    "model.load_weights(\"ahmet_umit_generator_weights.h5\")\n",
    "model.build(tf.TensorShape([1,None])) "
   ]
  },
  {
   "cell_type": "code",
   "execution_count": 109,
   "id": "f58d73b7",
   "metadata": {},
   "outputs": [
    {
     "name": "stdout",
     "output_type": "stream",
     "text": [
      "Model: \"sequential_4\"\n",
      "_________________________________________________________________\n",
      "Layer (type)                 Output Shape              Param #   \n",
      "=================================================================\n",
      "embedding_4 (Embedding)      (1, None, 64)             6848      \n",
      "_________________________________________________________________\n",
      "gru_4 (GRU)                  (1, None, 1538)           7400856   \n",
      "_________________________________________________________________\n",
      "dense_4 (Dense)              (1, None, 107)            164673    \n",
      "=================================================================\n",
      "Total params: 7,572,377\n",
      "Trainable params: 7,572,377\n",
      "Non-trainable params: 0\n",
      "_________________________________________________________________\n"
     ]
    }
   ],
   "source": [
    "model.summary()"
   ]
  },
  {
   "cell_type": "code",
   "execution_count": 110,
   "id": "01f1e928",
   "metadata": {},
   "outputs": [],
   "source": [
    "def generate_text(model,start_seed,gen_size = 500, temp=1.0):\n",
    "    \n",
    "    num_generate = gen_size\n",
    "    \n",
    "    input_eval = [char_to_ind[s] for s in start_seed]\n",
    "    \n",
    "    input_eval = tf.expand_dims(input_eval,0)\n",
    "    \n",
    "    text_generated = []\n",
    "    \n",
    "    temperature = temp\n",
    "    \n",
    "    model.reset_states()\n",
    "    \n",
    "    for i in range(num_generate):\n",
    "        \n",
    "        predictions = model(input_eval)\n",
    "        \n",
    "        predictions = tf.squeeze(predictions,0)\n",
    "        \n",
    "        predictions = predictions / temperature\n",
    "        \n",
    "        predicted_id = tf.random.categorical(predictions,num_samples=1)[-1,0].numpy()\n",
    "        \n",
    "        input_eval = tf.expand_dims([predicted_id],0)\n",
    "        \n",
    "        text_generated.append(ind_to_char[predicted_id])\n",
    "    \n",
    "    return (start_seed+\"\".join(text_generated))\n",
    "        "
   ]
  },
  {
   "cell_type": "code",
   "execution_count": 127,
   "id": "d9dda5fe",
   "metadata": {},
   "outputs": [
    {
     "name": "stdout",
     "output_type": "stream",
     "text": [
      "Kral bir alen sulmaz başlarını belirlemişti, işte bu iki seat aranan olap tutmama sarayor, Henvaşarla\n",
      "ciddileşmişti, ikinci kaba\n",
      "sara büyüklüyen lamda iki emin olaması için babasıyla geden barbulgunluktan \n"
     ]
    }
   ],
   "source": [
    "print(generate_text(model,\"Kral \",gen_size=200))"
   ]
  },
  {
   "cell_type": "code",
   "execution_count": null,
   "id": "ac83427a",
   "metadata": {},
   "outputs": [],
   "source": []
  },
  {
   "cell_type": "code",
   "execution_count": null,
   "id": "87276172",
   "metadata": {},
   "outputs": [],
   "source": []
  }
 ],
 "metadata": {
  "kernelspec": {
   "display_name": "Python 3",
   "language": "python",
   "name": "python3"
  },
  "language_info": {
   "codemirror_mode": {
    "name": "ipython",
    "version": 3
   },
   "file_extension": ".py",
   "mimetype": "text/x-python",
   "name": "python",
   "nbconvert_exporter": "python",
   "pygments_lexer": "ipython3",
   "version": "3.9.5"
  }
 },
 "nbformat": 4,
 "nbformat_minor": 5
}
